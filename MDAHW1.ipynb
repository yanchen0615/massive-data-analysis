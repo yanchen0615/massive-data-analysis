{
 "cells": [
  {
   "cell_type": "code",
   "execution_count": 1,
   "metadata": {},
   "outputs": [],
   "source": [
    "from pyspark import SparkContext, SparkConf\n",
    "conf = SparkConf().setAppName('appName').setMaster('local')\n",
    "sc = SparkContext(conf=conf)"
   ]
  },
  {
   "cell_type": "markdown",
   "metadata": {},
   "source": [
    "1. 讀取檔案"
   ]
  },
  {
   "cell_type": "code",
   "execution_count": 2,
   "metadata": {},
   "outputs": [],
   "source": [
    "data = sc.textFile('500input.txt')"
   ]
  },
  {
   "cell_type": "markdown",
   "metadata": {},
   "source": [
    "2. 準備以下函數"
   ]
  },
  {
   "cell_type": "markdown",
   "metadata": {},
   "source": [
    "2.1 reducer function 可以將相同Key的Value整理起來"
   ]
  },
  {
   "cell_type": "code",
   "execution_count": 3,
   "metadata": {},
   "outputs": [],
   "source": [
    "def reducer1(x,y):\n",
    "    return x+y"
   ]
  },
  {
   "cell_type": "markdown",
   "metadata": {},
   "source": [
    "2.2 定義一個函數mapper將一開始讀進來的資料進行初步處理"
   ]
  },
  {
   "cell_type": "markdown",
   "metadata": {},
   "source": [
    "若是屬於Ｍ（ｉ﹐ｊ）矩陣的元素就index j pop出來將資料擺成(j, (M, i, m))的形式，Ｎ（ｊ﹐ｋ）矩陣則是(j, (N, k, n))，寫成[list1]則是為了要將資料隔開。"
   ]
  },
  {
   "cell_type": "code",
   "execution_count": 4,
   "metadata": {},
   "outputs": [],
   "source": [
    "def mapper(line):\n",
    "    wordlist = line.split(\",\")\n",
    "    maplist = []\n",
    "    for i in range(0, len(wordlist), 5):\n",
    "        list1 = wordlist[i:(i+4)]\n",
    "        if list1[0]=='M':\n",
    "            key = list1.pop(2)\n",
    "            maplist.append((int(key),[list1]))\n",
    "        else:\n",
    "            key = list1.pop(1)\n",
    "            maplist.append((int(key),[list1]))\n",
    "    return maplist"
   ]
  },
  {
   "cell_type": "markdown",
   "metadata": {},
   "source": [
    "2.3 mappermn可以搭配reducer1 function把資料的M矩陣和N矩陣元素分離"
   ]
  },
  {
   "cell_type": "code",
   "execution_count": 5,
   "metadata": {},
   "outputs": [],
   "source": [
    "def mappermn(line):\n",
    "    linecopy = line\n",
    "    maplist = []\n",
    "    for i in range(len(linecopy)):\n",
    "        key = str(linecopy[i].pop(0))\n",
    "        maplist.append((key, [linecopy[i]]))\n",
    "    return maplist"
   ]
  },
  {
   "cell_type": "markdown",
   "metadata": {},
   "source": [
    "2.4 mapper1 function是在兩個矩陣元素分離後使用，在每個Ｍ矩陣的元素後面都掛上整個Ｎ矩陣的元素方便後續運算。處理完後資料型態如下："
   ]
  },
  {
   "cell_type": "markdown",
   "metadata": {},
   "source": [
    "[(i1, m1, [(k1, n1), (k2, n2),...]), (i2, m2, [(k1, n1), (k2, n2),...])...]"
   ]
  },
  {
   "cell_type": "markdown",
   "metadata": {},
   "source": [
    "以上資料形式搭配mapper2可以讓每個M矩陣的元素與N矩陣的元素都相乘到。"
   ]
  },
  {
   "cell_type": "code",
   "execution_count": 6,
   "metadata": {},
   "outputs": [],
   "source": [
    "def mapper1(sepm):\n",
    "    op = sepm\n",
    "    for i in range(len(op)):\n",
    "        op[i].append(sepn)\n",
    "    return op"
   ]
  },
  {
   "cell_type": "markdown",
   "metadata": {},
   "source": [
    "2.5 mapper2 function用了雙層迴圈把相同index j的所有(M, i, m)(N, k, n)資料轉換成((i, k), mn)。"
   ]
  },
  {
   "cell_type": "code",
   "execution_count": 7,
   "metadata": {},
   "outputs": [],
   "source": [
    "def mapper2(op):\n",
    "    maplist = []\n",
    "    for i in range(len(op)):\n",
    "        index1 = int(op[i][0])\n",
    "        mul1 = int(op[i][1])\n",
    "        for k in range(len(op[i][2])):\n",
    "            index2 = int(op[i][2][k][0])\n",
    "            mul2 = int(op[i][2][k][1])\n",
    "            outcome = mul1*mul2\n",
    "            key = (index1, index2)\n",
    "            maplist.append((key, outcome))\n",
    "    return maplist"
   ]
  },
  {
   "cell_type": "markdown",
   "metadata": {},
   "source": [
    "3. 程式流程"
   ]
  },
  {
   "cell_type": "markdown",
   "metadata": {},
   "source": [
    "3.1 用mapper function把資料轉成(j, (M, i, m))和(j, (N, k, n))的型態。"
   ]
  },
  {
   "cell_type": "code",
   "execution_count": 8,
   "metadata": {},
   "outputs": [],
   "source": [
    "rdd0 = data.flatMap(mapper)"
   ]
  },
  {
   "cell_type": "code",
   "execution_count": 9,
   "metadata": {},
   "outputs": [],
   "source": [
    "mn = rdd0.reduceByKey(reducer1).collect()"
   ]
  },
  {
   "cell_type": "markdown",
   "metadata": {},
   "source": [
    "3.2 接下來的for loop針對每個index j 裡面的元素做運算，轉換成((i, k), mn)的形式。"
   ]
  },
  {
   "cell_type": "code",
   "execution_count": 10,
   "metadata": {},
   "outputs": [],
   "source": [
    "ans_list = []\n",
    "for j in range(len(mn)):\n",
    "    \n",
    "    #讀取index j的所有元素放入test\n",
    "    test = mn[j][1]\n",
    "    \n",
    "    #以M,N當成key,mappermn搭配reducer1將test的資料成兩個資料集\n",
    "    septest = mappermn(test)\n",
    "    rdd_sep = sc.parallelize(septest).reduceByKey(reducer1)\n",
    "    sepmn = rdd_sep.collect()\n",
    "    sepn = sepmn[0][1]\n",
    "    sepm = sepmn[1][1]\n",
    "    \n",
    "    #把M矩陣每個後面都直接加掛N矩陣的所有元素\n",
    "    op = mapper1(sepm)\n",
    "    \n",
    "    #把處理好的資料放入mapper2轉換成((i, k), mn)的形式\n",
    "    maplist = mapper2(op)\n",
    "    \n",
    "    \n",
    "    ans_list.extend(maplist)"
   ]
  },
  {
   "cell_type": "code",
   "execution_count": 11,
   "metadata": {},
   "outputs": [],
   "source": [
    "#資料排序\n",
    "ans_list.sort()\n",
    "ans_long = len(ans_list)"
   ]
  },
  {
   "cell_type": "code",
   "execution_count": 12,
   "metadata": {},
   "outputs": [],
   "source": [
    "dim = len(data.collect())/2"
   ]
  },
  {
   "cell_type": "markdown",
   "metadata": {},
   "source": [
    "接下來原本只要用以下兩行程式碼做最後一次map-reduce就可以"
   ]
  },
  {
   "cell_type": "markdown",
   "metadata": {},
   "source": [
    "rdd_ans = sc.parallelize(loader)\n",
    "answer = rdd_ans.reduceByKey(reducer1).collect()"
   ]
  },
  {
   "cell_type": "markdown",
   "metadata": {},
   "source": [
    "不過直接將全部資料倒進去會出現 <outmemoryerror> 的訊息，所以要切割資料分批次做map-reduce"
   ]
  },
  {
   "cell_type": "code",
   "execution_count": 13,
   "metadata": {},
   "outputs": [],
   "source": [
    "ans = []\n",
    "for i in range(0, len(ans_list), int(ans_long/dim)):\n",
    "    loader = ans_list[i:(i+int(ans_long/dim))]\n",
    "    rdd_ans = sc.parallelize(loader)\n",
    "    answer = rdd_ans.reduceByKey(reducer1).collect()\n",
    "    ans.extend(answer)"
   ]
  },
  {
   "cell_type": "markdown",
   "metadata": {},
   "source": [
    "Note: int(ans_long/dim)代表j的個數"
   ]
  },
  {
   "cell_type": "code",
   "execution_count": 14,
   "metadata": {},
   "outputs": [],
   "source": [
    "#資料排序\n",
    "ans.sort()"
   ]
  },
  {
   "cell_type": "markdown",
   "metadata": {},
   "source": [
    "3.3 開一個新的檔案(mapreduce_output)將運算完的資料逐行印上去"
   ]
  },
  {
   "cell_type": "code",
   "execution_count": 15,
   "metadata": {},
   "outputs": [],
   "source": [
    "file = open(\"mapreduce_output.txt\", \"w\")\n",
    "file.write(\"Output\\n\")\n",
    "for i in range(len(ans)):\n",
    "    file.write(str(ans[i][0][0]))\n",
    "    file.write(',')\n",
    "    file.write(str(ans[i][0][1]))\n",
    "    file.write(',')\n",
    "    file.write(str(ans[i][1]))\n",
    "    file.write(' \\n')\n",
    "file.close()"
   ]
  },
  {
   "cell_type": "code",
   "execution_count": null,
   "metadata": {},
   "outputs": [],
   "source": []
  }
 ],
 "metadata": {
  "kernelspec": {
   "display_name": "Python 3",
   "language": "python",
   "name": "python3"
  },
  "language_info": {
   "codemirror_mode": {
    "name": "ipython",
    "version": 3
   },
   "file_extension": ".py",
   "mimetype": "text/x-python",
   "name": "python",
   "nbconvert_exporter": "python",
   "pygments_lexer": "ipython3",
   "version": "3.5.2"
  }
 },
 "nbformat": 4,
 "nbformat_minor": 2
}
