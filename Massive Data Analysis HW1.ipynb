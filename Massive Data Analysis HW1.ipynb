{
 "cells": [
  {
   "cell_type": "code",
   "execution_count": 1,
   "metadata": {},
   "outputs": [],
   "source": [
    "file = open(r\"500input.txt\", \"r\")"
   ]
  },
  {
   "cell_type": "code",
   "execution_count": 2,
   "metadata": {},
   "outputs": [
    {
     "data": {
      "text/plain": [
       "<_io.TextIOWrapper name='500input.txt' mode='r' encoding='cp950'>"
      ]
     },
     "execution_count": 2,
     "metadata": {},
     "output_type": "execute_result"
    }
   ],
   "source": [
    "file"
   ]
  },
  {
   "cell_type": "code",
   "execution_count": 3,
   "metadata": {},
   "outputs": [],
   "source": [
    "data = file.readlines()"
   ]
  },
  {
   "cell_type": "code",
   "execution_count": 4,
   "metadata": {},
   "outputs": [],
   "source": [
    "file.close()"
   ]
  },
  {
   "cell_type": "code",
   "execution_count": 5,
   "metadata": {},
   "outputs": [],
   "source": [
    "from numpy import *"
   ]
  },
  {
   "cell_type": "code",
   "execution_count": 6,
   "metadata": {},
   "outputs": [],
   "source": [
    "dim = int(sqrt(len(data)/2))"
   ]
  },
  {
   "cell_type": "markdown",
   "metadata": {},
   "source": []
  },
  {
   "cell_type": "code",
   "execution_count": 7,
   "metadata": {},
   "outputs": [],
   "source": [
    "m1 = zeros((dim, dim))\n",
    "m2 = zeros((dim, dim))"
   ]
  },
  {
   "cell_type": "code",
   "execution_count": 8,
   "metadata": {},
   "outputs": [],
   "source": [
    "for i in range(len(data)):\n",
    "    data[i] = data[i].strip()\n",
    "    data[i] = data[i].split(',')"
   ]
  },
  {
   "cell_type": "code",
   "execution_count": 9,
   "metadata": {},
   "outputs": [],
   "source": [
    "sign = data[0][0]"
   ]
  },
  {
   "cell_type": "code",
   "execution_count": 10,
   "metadata": {},
   "outputs": [
    {
     "data": {
      "text/plain": [
       "500000"
      ]
     },
     "execution_count": 10,
     "metadata": {},
     "output_type": "execute_result"
    }
   ],
   "source": [
    "len(data)"
   ]
  },
  {
   "cell_type": "code",
   "execution_count": 11,
   "metadata": {},
   "outputs": [],
   "source": [
    "for i in range(len(data)):\n",
    "    if data[i][0] == sign:\n",
    "        index1 = int(data[i][1])\n",
    "        index2 = int(data[i][2])\n",
    "        m1[index1, index2] = float(data[i][3])\n",
    "    else :\n",
    "        index1 = int(data[i][1])\n",
    "        index2 = int(data[i][2])\n",
    "        m2[index1, index2] = float(data[i][3])"
   ]
  },
  {
   "cell_type": "code",
   "execution_count": 12,
   "metadata": {},
   "outputs": [
    {
     "data": {
      "text/plain": [
       "array([[51., 17., 83., ..., 23., 47., 52.],\n",
       "       [38., 63., 43., ..., 65., 18., 48.],\n",
       "       [78., 80., 45., ..., 44., 56., 61.],\n",
       "       ...,\n",
       "       [19., 18., 16., ..., 96., 50., 26.],\n",
       "       [20., 60., 12., ..., 95., 88., 61.],\n",
       "       [39., 43., 91., ..., 36., 76., 16.]])"
      ]
     },
     "execution_count": 12,
     "metadata": {},
     "output_type": "execute_result"
    }
   ],
   "source": [
    "m1"
   ]
  },
  {
   "cell_type": "code",
   "execution_count": 13,
   "metadata": {},
   "outputs": [
    {
     "data": {
      "text/plain": [
       "array([[73., 58., 23., ..., 81., 46.,  8.],\n",
       "       [36., 44.,  0., ..., 63., 47., 11.],\n",
       "       [ 9., 41.,  1., ..., 24., 92., 47.],\n",
       "       ...,\n",
       "       [60., 77.,  7., ..., 32.,  1., 28.],\n",
       "       [91., 91., 32., ..., 86., 65., 70.],\n",
       "       [48., 38., 47., ..., 42., 93., 53.]])"
      ]
     },
     "execution_count": 13,
     "metadata": {},
     "output_type": "execute_result"
    }
   ],
   "source": [
    "m2"
   ]
  },
  {
   "cell_type": "code",
   "execution_count": 14,
   "metadata": {},
   "outputs": [],
   "source": [
    "output = dot(m1, m2)"
   ]
  },
  {
   "cell_type": "code",
   "execution_count": 15,
   "metadata": {},
   "outputs": [
    {
     "data": {
      "text/plain": [
       "array([[1224217., 1209205., 1172528., ..., 1220560., 1194145., 1139598.],\n",
       "       [1193505., 1207761., 1167187., ..., 1236379., 1193668., 1139242.],\n",
       "       [1268862., 1215681., 1187852., ..., 1228948., 1236998., 1169572.],\n",
       "       ...,\n",
       "       [1283557., 1278193., 1252259., ..., 1261329., 1250857., 1215844.],\n",
       "       [1285557., 1267572., 1220170., ..., 1263092., 1208709., 1201931.],\n",
       "       [1246537., 1191511., 1173756., ..., 1198548., 1189622., 1172100.]])"
      ]
     },
     "execution_count": 15,
     "metadata": {},
     "output_type": "execute_result"
    }
   ],
   "source": [
    "output"
   ]
  },
  {
   "cell_type": "code",
   "execution_count": 16,
   "metadata": {},
   "outputs": [],
   "source": [
    "file = open(\"mapreduce_output.txt\", \"w\")"
   ]
  },
  {
   "cell_type": "code",
   "execution_count": 17,
   "metadata": {},
   "outputs": [
    {
     "data": {
      "text/plain": [
       "7"
      ]
     },
     "execution_count": 17,
     "metadata": {},
     "output_type": "execute_result"
    }
   ],
   "source": [
    "file.write(\"Output\\n\")"
   ]
  },
  {
   "cell_type": "code",
   "execution_count": 18,
   "metadata": {},
   "outputs": [],
   "source": [
    "for i in range(len(output)):\n",
    "    for j in range(len(output[i])):\n",
    "        file.write(str(i))\n",
    "        file.write(\", \")\n",
    "        file.write(str(j))\n",
    "        file.write(\", \")\n",
    "        file.write(str(int(output[i][j])))\n",
    "        file.write(' \\n')"
   ]
  },
  {
   "cell_type": "code",
   "execution_count": null,
   "metadata": {},
   "outputs": [],
   "source": []
  }
 ],
 "metadata": {
  "kernelspec": {
   "display_name": "Python 3",
   "language": "python",
   "name": "python3"
  },
  "language_info": {
   "codemirror_mode": {
    "name": "ipython",
    "version": 3
   },
   "file_extension": ".py",
   "mimetype": "text/x-python",
   "name": "python",
   "nbconvert_exporter": "python",
   "pygments_lexer": "ipython3",
   "version": "3.5.2"
  }
 },
 "nbformat": 4,
 "nbformat_minor": 2
}
