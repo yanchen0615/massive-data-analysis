{
 "cells": [
  {
   "cell_type": "markdown",
   "metadata": {},
   "source": [
    "載入SparkContext和SparkConf"
   ]
  },
  {
   "cell_type": "code",
   "execution_count": 5,
   "metadata": {},
   "outputs": [],
   "source": [
    "from pyspark import SparkContext\n",
    "from pyspark import SparkConf"
   ]
  },
  {
   "cell_type": "code",
   "execution_count": 6,
   "metadata": {},
   "outputs": [],
   "source": [
    "conf = SparkConf().setAppName('appName').setMaster('local')"
   ]
  },
  {
   "cell_type": "code",
   "execution_count": 7,
   "metadata": {},
   "outputs": [],
   "source": [
    "sc = SparkContext(conf=conf)"
   ]
  },
  {
   "cell_type": "markdown",
   "metadata": {},
   "source": [
    "先建立M(i,j)的mapper1, 將index j取出來當成key;\n",
    "再建立N(j,k)的mapper1, 將index j取出來當成key"
   ]
  },
  {
   "cell_type": "code",
   "execution_count": 8,
   "metadata": {},
   "outputs": [],
   "source": [
    "def mapper1(line):\n",
    "    wordlist = line.split(\",\")\n",
    "    maplist = []\n",
    "    key = wordlist.pop(2)\n",
    "    maplist.append((int(key),wordlist))\n",
    "    return maplist    "
   ]
  },
  {
   "cell_type": "code",
   "execution_count": 9,
   "metadata": {},
   "outputs": [],
   "source": [
    "def mapper2(line):\n",
    "    wordlist = line.split(\",\")\n",
    "    maplist = []\n",
    "    key = wordlist.pop(1)\n",
    "    maplist.append((int(key),wordlist))\n",
    "    return maplist    "
   ]
  },
  {
   "cell_type": "markdown",
   "metadata": {},
   "source": [
    "定義reducer, 將相同key的value list蒐集起來"
   ]
  },
  {
   "cell_type": "code",
   "execution_count": 10,
   "metadata": {},
   "outputs": [],
   "source": [
    "def reducer1(x,y):\n",
    "    return x+y"
   ]
  },
  {
   "cell_type": "markdown",
   "metadata": {},
   "source": [
    "讀取檔案\"5ooinput.txt\""
   ]
  },
  {
   "cell_type": "code",
   "execution_count": 20,
   "metadata": {},
   "outputs": [],
   "source": [
    "data = sc.textFile('2input.txt')"
   ]
  },
  {
   "cell_type": "markdown",
   "metadata": {},
   "source": [
    "先建立兩個空的list M,N,這兩個list之後會用來蒐集M矩陣和N矩陣的元素"
   ]
  },
  {
   "cell_type": "code",
   "execution_count": 21,
   "metadata": {},
   "outputs": [],
   "source": [
    "M = []\n",
    "N = []"
   ]
  },
  {
   "cell_type": "markdown",
   "metadata": {},
   "source": [
    "將所有資料傳換成list的資料型態, 再用if-else把MN兩個矩陣的元素分開"
   ]
  },
  {
   "cell_type": "code",
   "execution_count": 22,
   "metadata": {},
   "outputs": [],
   "source": [
    "d = data.collect()"
   ]
  },
  {
   "cell_type": "code",
   "execution_count": 23,
   "metadata": {},
   "outputs": [],
   "source": [
    "for i in range(len(d)):\n",
    "    if 'M' in d[i]:\n",
    "        M.append(d[i])\n",
    "    else :\n",
    "        N.append(d[i])"
   ]
  },
  {
   "cell_type": "markdown",
   "metadata": {},
   "source": [
    "分好之後將M,N各自由list轉成RDD"
   ]
  },
  {
   "cell_type": "code",
   "execution_count": 25,
   "metadata": {},
   "outputs": [
    {
     "data": {
      "text/plain": [
       "['M,0,0,10',\n",
       " 'M,0,1,0',\n",
       " 'M,0,2,20',\n",
       " 'M,1,0,0',\n",
       " 'M,1,1,30',\n",
       " 'M,1,2,0',\n",
       " 'M,2,0,40',\n",
       " 'M,2,1,0',\n",
       " 'M,2,2,50']"
      ]
     },
     "execution_count": 25,
     "metadata": {},
     "output_type": "execute_result"
    }
   ],
   "source": [
    "M"
   ]
  },
  {
   "cell_type": "code",
   "execution_count": 26,
   "metadata": {},
   "outputs": [],
   "source": [
    "rddm = sc.parallelize(M)\n",
    "rddn = sc.parallelize(N)"
   ]
  },
  {
   "cell_type": "markdown",
   "metadata": {},
   "source": [
    "屬於M矩陣的元素藉由mapper1轉換成(j,[M,i,m])的形式, 把j拿出來當key; 同理, 將N矩陣的元素轉換成(j,[N,k,n])的形式。"
   ]
  },
  {
   "cell_type": "code",
   "execution_count": 27,
   "metadata": {},
   "outputs": [],
   "source": [
    "rddm = rddm.flatMap(mapper1)\n",
    "rddn = rddn.flatMap(mapper2)"
   ]
  },
  {
   "cell_type": "markdown",
   "metadata": {},
   "source": [
    "為了後續要把對應的矩陣元素相乘，所以在執行reduce後轉換回list的資料型態。"
   ]
  },
  {
   "cell_type": "code",
   "execution_count": 28,
   "metadata": {},
   "outputs": [],
   "source": [
    "m = rddm.reduceByKey(reducer1).collect()    \n",
    "n = rddn.reduceByKey(reducer1).collect()  "
   ]
  },
  {
   "cell_type": "code",
   "execution_count": 29,
   "metadata": {},
   "outputs": [
    {
     "data": {
      "text/plain": [
       "[(0, ['M', '0', '10', 'M', '1', '0', 'M', '2', '40']),\n",
       " (1, ['M', '0', '0', 'M', '1', '30', 'M', '2', '0']),\n",
       " (2, ['M', '0', '20', 'M', '1', '0', 'M', '2', '50'])]"
      ]
     },
     "execution_count": 29,
     "metadata": {},
     "output_type": "execute_result"
    }
   ],
   "source": [
    "m"
   ]
  },
  {
   "cell_type": "markdown",
   "metadata": {},
   "source": [
    "接下來解釋如何將(j,(M,i,m))和(j,(N,k,n))轉換成((i,k),mn)："
   ]
  },
  {
   "cell_type": "markdown",
   "metadata": {},
   "source": [
    "(1)首先建立一個空的list, 命名為aggregate, 用來蒐集轉換後的((i,k),mn)"
   ]
  },
  {
   "cell_type": "markdown",
   "metadata": {},
   "source": [
    "(2)第一層for loop是將j組轉換後的((i,k),mn)集合起來"
   ]
  },
  {
   "cell_type": "markdown",
   "metadata": {},
   "source": [
    "(3)第二層有三組for loop, 第一個和第二個loop執行的目的是要將list m和list n的資料排列成[['M','i','m'],...,]的形式方便後續運算值的取用,而a和b則是在loop中的暫時容器, 用來裝排列好的資料, 排列完成後第三組loop才真正執行乘法運算, 運算後再以((i,k),mn)的形式存入list1這個暫時容器, list1在第二層loop結束時存入aggregate"
   ]
  },
  {
   "cell_type": "markdown",
   "metadata": {},
   "source": [
    "(4)這個三層迴圈需要非常久的時間才能跑完(大概一天多)，所以不是一個好方法，不過礙於作業繳交時限，只能先用這個方法，後續有想到其他解法會再補上。"
   ]
  },
  {
   "cell_type": "markdown",
   "metadata": {},
   "source": [
    "aggregate = []\n",
    "for j in range(len(m)):\n",
    "    data1 = m[j][1]\n",
    "    a = []\n",
    "    for i in range(0, len(data1), 3):\n",
    "        a.append([data1[i],data1[i+1],data1[i+2]])\n",
    "    data2 = n[j][1]\n",
    "    b = []\n",
    "    for i in range(0, len(data2), 3):\n",
    "        b.append([data2[i],data2[i+1],data2[i+2]])\n",
    "    list1 = []\n",
    "    for i in range(len(a)):\n",
    "        mul1 = int(a[i][2])\n",
    "        index1 = a[i][1]\n",
    "        for k in range(len(b)):\n",
    "            mul2 = int(b[k][2])\n",
    "            index2 = b[k][1]\n",
    "            list1.append(((index1,index2),mul1*mul2))\n",
    "    aggregate.extend(list1)"
   ]
  },
  {
   "cell_type": "markdown",
   "metadata": {},
   "source": [
    "aggregate已經將資料整理成[(index1,index2),value]的形式，接下來只要將aggregate轉換成RDD的資料型式，再用map-reduce就完成矩陣乘法了。"
   ]
  },
  {
   "cell_type": "code",
   "execution_count": 15,
   "metadata": {},
   "outputs": [],
   "source": [
    "rdda = sc.parallelize(aggregate)"
   ]
  },
  {
   "cell_type": "markdown",
   "metadata": {},
   "source": [
    "用reduceByKey將相同key(i,k)的值都相加起來。"
   ]
  },
  {
   "cell_type": "code",
   "execution_count": 16,
   "metadata": {},
   "outputs": [],
   "source": [
    "outcome = rdda.reduceByKey(reducer1).collect()"
   ]
  },
  {
   "cell_type": "markdown",
   "metadata": {},
   "source": [
    "再用sort()指令排序"
   ]
  },
  {
   "cell_type": "code",
   "execution_count": 17,
   "metadata": {},
   "outputs": [],
   "source": [
    "outcome.sort()"
   ]
  },
  {
   "cell_type": "markdown",
   "metadata": {},
   "source": [
    "開一個新的檔案"
   ]
  },
  {
   "cell_type": "code",
   "execution_count": 18,
   "metadata": {},
   "outputs": [],
   "source": [
    "file = open(\"mapreduce_output.txt\", \"w\")"
   ]
  },
  {
   "cell_type": "code",
   "execution_count": 19,
   "metadata": {},
   "outputs": [
    {
     "data": {
      "text/plain": [
       "7"
      ]
     },
     "execution_count": 19,
     "metadata": {},
     "output_type": "execute_result"
    }
   ],
   "source": [
    "file.write(\"Output\\n\")"
   ]
  },
  {
   "cell_type": "markdown",
   "metadata": {},
   "source": [
    "將資料轉換成string之後一一寫入剛剛建立的檔案"
   ]
  },
  {
   "cell_type": "code",
   "execution_count": 20,
   "metadata": {},
   "outputs": [],
   "source": [
    "for i in range(len(outcome)):\n",
    "    file.write(str(outcome[i][0][0]))\n",
    "    file.write(',')\n",
    "    file.write(str(outcome[i][0][1]))\n",
    "    file.write(',')\n",
    "    file.write(str(outcome[i][1]))\n",
    "    file.write(' \\n')"
   ]
  },
  {
   "cell_type": "code",
   "execution_count": 21,
   "metadata": {},
   "outputs": [],
   "source": [
    "file.close()"
   ]
  },
  {
   "cell_type": "code",
   "execution_count": null,
   "metadata": {},
   "outputs": [],
   "source": []
  }
 ],
 "metadata": {
  "kernelspec": {
   "display_name": "Python 3",
   "language": "python",
   "name": "python3"
  },
  "language_info": {
   "codemirror_mode": {
    "name": "ipython",
    "version": 3
   },
   "file_extension": ".py",
   "mimetype": "text/x-python",
   "name": "python",
   "nbconvert_exporter": "python",
   "pygments_lexer": "ipython3",
   "version": "3.5.2"
  }
 },
 "nbformat": 4,
 "nbformat_minor": 2
}
