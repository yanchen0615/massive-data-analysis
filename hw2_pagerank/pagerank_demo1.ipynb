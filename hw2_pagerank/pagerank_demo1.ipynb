{
 "cells": [
  {
   "cell_type": "code",
   "execution_count": 1,
   "metadata": {},
   "outputs": [],
   "source": [
    "from pyspark import SparkContext\n",
    "from pyspark import SparkConf"
   ]
  },
  {
   "cell_type": "code",
   "execution_count": 2,
   "metadata": {},
   "outputs": [],
   "source": [
    "conf=SparkConf().set(\"spark.default.parallelism\", 4)\n",
    "sc = SparkContext(conf=conf)"
   ]
  },
  {
   "cell_type": "code",
   "execution_count": 3,
   "metadata": {},
   "outputs": [],
   "source": [
    "def mapper1(line):\n",
    "    wordlist = line.split(\"\\t\")\n",
    "    key = wordlist[0]\n",
    "    value = wordlist[1]\n",
    "    maplist = []\n",
    "    maplist.append((key, value))\n",
    "    return maplist"
   ]
  },
  {
   "cell_type": "code",
   "execution_count": 4,
   "metadata": {},
   "outputs": [],
   "source": [
    "def reducer1(x,y):\n",
    "    return x+y"
   ]
  },
  {
   "cell_type": "code",
   "execution_count": 5,
   "metadata": {},
   "outputs": [],
   "source": [
    "def reducer2(x,y):\n",
    "    return x+','+y"
   ]
  },
  {
   "cell_type": "code",
   "execution_count": 6,
   "metadata": {},
   "outputs": [],
   "source": [
    "data = sc.textFile('p2p-Gnutella04.txt')"
   ]
  },
  {
   "cell_type": "code",
   "execution_count": 7,
   "metadata": {},
   "outputs": [],
   "source": [
    "data = data.flatMap(mapper1)"
   ]
  },
  {
   "cell_type": "code",
   "execution_count": 8,
   "metadata": {},
   "outputs": [],
   "source": [
    "datalist = data.reduceByKey(reducer2).collect()"
   ]
  },
  {
   "cell_type": "code",
   "execution_count": 9,
   "metadata": {},
   "outputs": [],
   "source": [
    "def mapper2(line):\n",
    "    start = line[0]\n",
    "    target = line[1]\n",
    "    wordlist = target.split(',')\n",
    "    maplist = []\n",
    "    maplist.append((int(start),len(wordlist),wordlist))\n",
    "    return maplist"
   ]
  },
  {
   "cell_type": "code",
   "execution_count": 10,
   "metadata": {},
   "outputs": [],
   "source": [
    "for i in range(len(datalist)):\n",
    "    temp = datalist.pop(0)\n",
    "    datalist.extend(mapper2(temp))"
   ]
  },
  {
   "cell_type": "code",
   "execution_count": 11,
   "metadata": {},
   "outputs": [],
   "source": [
    "datalist.sort()"
   ]
  },
  {
   "cell_type": "code",
   "execution_count": 12,
   "metadata": {},
   "outputs": [],
   "source": [
    "targetlist = []\n",
    "for i in range(len(datalist)):\n",
    "    for j in range(len(datalist[i][2])):\n",
    "        targetlist.append(int(datalist[i][2][j]))"
   ]
  },
  {
   "cell_type": "code",
   "execution_count": 13,
   "metadata": {},
   "outputs": [],
   "source": [
    "targetlist.sort()"
   ]
  },
  {
   "cell_type": "code",
   "execution_count": 14,
   "metadata": {},
   "outputs": [],
   "source": [
    "#A list of distination\n",
    "distination = sorted(set(targetlist), key = targetlist.index)"
   ]
  },
  {
   "cell_type": "code",
   "execution_count": 16,
   "metadata": {},
   "outputs": [
    {
     "data": {
      "text/plain": [
       "10856"
      ]
     },
     "execution_count": 16,
     "metadata": {},
     "output_type": "execute_result"
    }
   ],
   "source": [
    "len(distination)"
   ]
  },
  {
   "cell_type": "code",
   "execution_count": 17,
   "metadata": {},
   "outputs": [],
   "source": [
    "beta = 0.8"
   ]
  },
  {
   "cell_type": "code",
   "execution_count": 18,
   "metadata": {},
   "outputs": [],
   "source": [
    "def mapper3(line, rold):\n",
    "    maplist = []\n",
    "    source = line[0]\n",
    "    degree = line[1]\n",
    "    dist = line[2]\n",
    "    a = rold[source]/degree\n",
    "    for i in range(len(dist)):\n",
    "        maplist.append((dist[i],a))\n",
    "    return maplist"
   ]
  },
  {
   "cell_type": "code",
   "execution_count": 20,
   "metadata": {},
   "outputs": [],
   "source": [
    "rold = []\n",
    "\n",
    "for i in range(10876):\n",
    "    #rnew\n",
    "    a = 1/10876\n",
    "    rold.extend([a])"
   ]
  },
  {
   "cell_type": "code",
   "execution_count": 21,
   "metadata": {},
   "outputs": [
    {
     "data": {
      "text/plain": [
       "[('1', 9.194556822361162e-06),\n",
       " ('2', 9.194556822361162e-06),\n",
       " ('3', 9.194556822361162e-06),\n",
       " ('4', 9.194556822361162e-06),\n",
       " ('5', 9.194556822361162e-06),\n",
       " ('6', 9.194556822361162e-06),\n",
       " ('7', 9.194556822361162e-06),\n",
       " ('8', 9.194556822361162e-06),\n",
       " ('9', 9.194556822361162e-06),\n",
       " ('10', 9.194556822361162e-06)]"
      ]
     },
     "execution_count": 21,
     "metadata": {},
     "output_type": "execute_result"
    }
   ],
   "source": [
    "mapper3(datalist[0],rold)"
   ]
  },
  {
   "cell_type": "code",
   "execution_count": null,
   "metadata": {},
   "outputs": [],
   "source": []
  }
 ],
 "metadata": {
  "kernelspec": {
   "display_name": "Python 3",
   "language": "python",
   "name": "python3"
  },
  "language_info": {
   "codemirror_mode": {
    "name": "ipython",
    "version": 3
   },
   "file_extension": ".py",
   "mimetype": "text/x-python",
   "name": "python",
   "nbconvert_exporter": "python",
   "pygments_lexer": "ipython3",
   "version": "3.5.2"
  }
 },
 "nbformat": 4,
 "nbformat_minor": 2
}
